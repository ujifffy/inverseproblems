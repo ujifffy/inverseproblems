{
  "nbformat": 4,
  "nbformat_minor": 0,
  "metadata": {
    "colab": {
      "provenance": []
    },
    "kernelspec": {
      "name": "python3",
      "display_name": "Python 3"
    },
    "language_info": {
      "name": "python"
    }
  },
  "cells": [
    {
      "cell_type": "code",
      "source": [
        "import numpy as np\n",
        "\n",
        "import matplotlib.pyplot as plt \n",
        "from time import perf_counter_ns"
      ],
      "metadata": {
        "id": "7cFmfQ1ljZLj"
      },
      "execution_count": 2,
      "outputs": []
    },
    {
      "cell_type": "markdown",
      "source": [
        "Вычисление $f=u(T,x|q_{exact})$"
      ],
      "metadata": {
        "id": "GD5bZC5HiyOK"
      }
    },
    {
      "cell_type": "code",
      "source": [
        "def solve_pde(q, dx, dt, T): #pde solver for u with eps=0\n",
        "\n",
        "    x = np.arange(0, 1, dx)\n",
        "    t = np.arange(0, T, dt)\n",
        "    n = len(t)\n",
        "    m = len(x)\n",
        "    U = np.zeros((n+1,m+1))\n",
        "    U[0,:] = q\n",
        "    for i in range(0,n):\n",
        "        for j in range(1,m):\n",
        "            U[i+1,j] = U[i,j] + dt * (U[i,j] * (U[i,j+1] - 2 * U[i,j] + U[i,j-1])/(dx ** 2) + ((U[i,j+1] - U[i,j-1])/(2*dx)) ** 2 + U[i,j] * (1 - U[i,j])) #step for finite differences method\n",
        "        #boundary conditions\n",
        "        U[i+1,0] = U[i+1,1]\n",
        "        U[i+1,m] = U[i+1,m-1]\n",
        "    U[n,0] = U[n,1]\n",
        "    U[n,m] = U[n,m-1]\n",
        "\n",
        "    return U"
      ],
      "metadata": {
        "id": "DgiOzwQCjmUL"
      },
      "execution_count": 290,
      "outputs": []
    },
    {
      "cell_type": "markdown",
      "source": [
        "Реализация метода Ричардсона для вычисления целевого функционала(вычисляем $J(f)$ для улучшения точности до тех пор, пока не достигнем целевой точности,в данном случае $10^{-5}$)"
      ],
      "metadata": {
        "id": "X0rmzHgymB4g"
      }
    },
    {
      "cell_type": "code",
      "source": [
        "def trap(f, u, dx, eps): #used for evaluating target functional\n",
        "    m = len(f)\n",
        "    dt = dx**2/8 * (1+ np.sqrt(dx ** 4 + 16 * eps * dx ** 2))\n",
        "    s= (f[0]-u[0]) ** 2 + (f[m-1]-u[m-1]) ** 2\n",
        "    for j in range(1,m-2):\n",
        "        s += 2 * (f[j]-u[j]) ** 2\n",
        "    s = s * dx / 2\n",
        "    return s    \n",
        "\n",
        "def trap1(A, f, u, dx, eps):\n",
        "    m = len(f)\n",
        "    dt = dx**2/8 * (1+ np.sqrt(dx ** 4 + 16 * eps * dx ** 2))\n",
        "    c=4*trap(f, u, dx, eps)\n",
        "    d=A\n",
        "    s=(c-d)/3\n",
        "    return s\n",
        "\n"
      ],
      "metadata": {
        "id": "HrhzMsvBmHNd"
      },
      "execution_count": 291,
      "outputs": []
    },
    {
      "cell_type": "code",
      "source": [
        "    def func(x):\n",
        "        return (np.sin(np.pi * x)) ** 2"
      ],
      "metadata": {
        "id": "xWNDtZeBwYNe"
      },
      "execution_count": 323,
      "outputs": []
    },
    {
      "cell_type": "code",
      "source": [
        "T = 0.01\n",
        "eps = T / 1000\n",
        "dx=0.3\n",
        "dt = dx**2/8 * (1+ np.sqrt(1 + 16 * eps / dx ** 2))\n",
        "x = np.arange(0, 1, dx)\n",
        "t = np.arange(0, T, dt)\n",
        "\n",
        "n = len(t)\n",
        "\n",
        "m = len(x)\n",
        "q_ex = np.zeros(m+1)\n",
        "\n",
        "for i in range(0, m+1):\n",
        "    q_ex[i] = func(i*dx)\n",
        "err = 1e-6\n",
        "\n",
        "cur_diff = 1\n",
        "Cs = np.zeros(3)\n",
        "errs = np.zeros(3)\n",
        "\n",
        "U = solve_pde(q_ex, dx, dt, T)\n",
        "f = np.zeros(m)\n",
        "f = U[n,:]\n",
        "G = solve_pde(f, dx, dt, T)\n",
        "u = np.zeros(m)\n",
        "u = G[n,:]\n",
        "A = trap(f, u, dx, eps)\n",
        "\n",
        "for s in range(3):\n",
        "    dx = dx/2\n",
        "    dt = dx**2/8 * (1+ np.sqrt(1 + 16 * eps / dx ** 2))\n",
        "    x = np.arange(0, 1, dx)\n",
        "    t = np.arange(0, T, dt)\n",
        "    n = len(t)\n",
        "    m = len(x)\n",
        "    q_ex = np.zeros(m+1)\n",
        "    for i in range(0, m+1):\n",
        "        q_ex[i] = func(i*dx)\n",
        "    U = solve_pde(q_ex, dx, dt, T)\n",
        "    f = np.zeros(m)\n",
        "    f = U[n,:]\n",
        "    G = solve_pde(f, dx, dt, T)\n",
        "    u = np.zeros(m)\n",
        "    u = G[n,:]\n",
        "    x = np.arange(0, 1, dx)\n",
        "    t = np.arange(0, T, dt)\n",
        "    n = len(t)\n",
        "    m = len(x)\n",
        "    A1 = trap1(A, q_ex, u, dx, eps)\n",
        "    curr_diff = np.abs(A1-A)\n",
        "    A = A1 + (A1-A)/3\n",
        "    errs[s] = curr_diff\n",
        "\n",
        "U = solve_pde(q_ex, dx, dt, T)\n",
        "f = np.zeros(m)\n",
        "f = U[n,:]\n",
        "\n",
        "plt.plot(errs)\n"
      ],
      "metadata": {
        "colab": {
          "base_uri": "https://localhost:8080/",
          "height": 285
        },
        "id": "ILRhRcz7sDak",
        "outputId": "bdb884d1-796a-4554-e850-2ec77e972951"
      },
      "execution_count": 385,
      "outputs": [
        {
          "output_type": "execute_result",
          "data": {
            "text/plain": [
              "[<matplotlib.lines.Line2D at 0x7fa0191718e0>]"
            ]
          },
          "metadata": {},
          "execution_count": 385
        },
        {
          "output_type": "display_data",
          "data": {
            "text/plain": [
              "<Figure size 432x288 with 1 Axes>"
            ],
            "image/png": "[encoded data removed]"
          },
          "metadata": {
            "needs_background": "light"
          }
        }
      ]
    },
    {
      "cell_type": "code",
      "source": [
        "plt.plot(U[n,:])"
      ],
      "metadata": {
        "colab": {
          "base_uri": "https://localhost:8080/",
          "height": 285
        },
        "id": "v7wRci4eJQaF",
        "outputId": "3ad9d134-9d12-45c6-8922-e20e53e28f52"
      },
      "execution_count": 318,
      "outputs": [
        {
          "output_type": "execute_result",
          "data": {
            "text/plain": [
              "[<matplotlib.lines.Line2D at 0x7fa019679a30>]"
            ]
          },
          "metadata": {},
          "execution_count": 318
        },
        {
          "output_type": "display_data",
          "data": {
            "text/plain": [
              "<Figure size 432x288 with 1 Axes>"
            ],
            "image/png": "[encoded data removed]"
          },
          "metadata": {
            "needs_background": "light"
          }
        }
      ]
    },
    {
      "cell_type": "code",
      "source": [
        "plt.plot(q_ex)"
      ],
      "metadata": {
        "colab": {
          "base_uri": "https://localhost:8080/",
          "height": 283
        },
        "id": "fO6O-xvqWh4y",
        "outputId": "7ccdb28c-921a-468c-d501-31605ba4d356"
      },
      "execution_count": 319,
      "outputs": [
        {
          "output_type": "execute_result",
          "data": {
            "text/plain": [
              "[<matplotlib.lines.Line2D at 0x7fa01964a250>]"
            ]
          },
          "metadata": {},
          "execution_count": 319
        },
        {
          "output_type": "display_data",
          "data": {
            "text/plain": [
              "<Figure size 432x288 with 1 Axes>"
            ],
            "image/png": "[encoded data removed]"
          },
          "metadata": {
            "needs_background": "light"
          }
        }
      ]
    },
    {
      "cell_type": "code",
      "source": [
        "errs[6]"
      ],
      "metadata": {
        "colab": {
          "base_uri": "https://localhost:8080/"
        },
        "id": "iVeDtC_Z6IRi",
        "outputId": "742d2555-89b9-453b-db46-43a74ca8618f"
      },
      "execution_count": 272,
      "outputs": [
        {
          "output_type": "execute_result",
          "data": {
            "text/plain": [
              "0.01167540674512927"
            ]
          },
          "metadata": {},
          "execution_count": 272
        }
      ]
    },
    {
      "cell_type": "code",
      "source": [
        "print(dx)\n",
        "\n",
        "print(dt)"
      ],
      "metadata": {
        "colab": {
          "base_uri": "https://localhost:8080/"
        },
        "id": "0LkJTKSc5txC",
        "outputId": "9b00b72e-3b46-4b5d-8243-7609335aa14e"
      },
      "execution_count": 386,
      "outputs": [
        {
          "output_type": "stream",
          "name": "stdout",
          "text": [
            "0.0375\n",
            "0.00036129317104973335\n"
          ]
        }
      ]
    },
    {
      "cell_type": "markdown",
      "source": [
        "В нашем случае это необходимый размер сетки по $x$ и $t$ соответственно"
      ],
      "metadata": {
        "id": "5k9gdI465wtF"
      }
    },
    {
      "cell_type": "markdown",
      "source": [
        "После этого перейдем к самому градиентному методу: "
      ],
      "metadata": {
        "id": "BbqOFgOO5_7v"
      }
    },
    {
      "cell_type": "code",
      "source": [
        "def solve_cpde(f, U, dt, dx, T): #conjugate pde solver for p --- time-inverted conjugate pde\n",
        "    x = np.arange(0, 1, dx)\n",
        "    t = np.arange(0, T, dt)\n",
        "    n = len(t)\n",
        "    m = len(x)\n",
        "    P = np.zeros((n+1,m+1))\n",
        "    P[0,:] = 2 * (f - U[n, :])\n",
        "    for i in range(0,n):\n",
        "        P[i+1,0] = P[i+1,1]\n",
        "        P[i+1,m] = P[i+1,m-1]\n",
        "        for j in range(1,m):\n",
        "            P[i+1,j] = P[i,j] + dt * (P[n-i,j] * (P[i,j+1] - 2 * P[i,j] + P[i,j-1])/(dx ** 2) - (2 * U[n-i,j] - 1) * P[i,j])\n",
        "    P[n,0] = P[n,1]\n",
        "    P[n,m] = P[n,m-1]\n",
        "    return P  "
      ],
      "metadata": {
        "id": "46JKnUVi6Ptm"
      },
      "execution_count": 329,
      "outputs": []
    },
    {
      "cell_type": "code",
      "source": [
        "def error(f, U, dx):\n",
        "    s = 0\n",
        "    for j in range(m+1):\n",
        "        s = s + dx * (f[j] - U[n,j]) ** 2\n",
        "    return s"
      ],
      "metadata": {
        "id": "zwoAeDHm6cGe"
      },
      "execution_count": 330,
      "outputs": []
    },
    {
      "cell_type": "code",
      "source": [
        "def solve_pde_m(q, dx, dt, T, e): #pde solver for u with eps\n",
        "    if (e == 0):\n",
        "        return solve_pde(q, dx, dt, T)\n",
        "    x = np.arange(0, 1, dx)\n",
        "    t = np.arange(0, T, dt)\n",
        "    n = len(t)\n",
        "    m = len(x)\n",
        "    U = np.zeros((n+1,m+1))\n",
        "    U[0,:] = q\n",
        "    U[1,:] = q\n",
        "    for i in range(1,n):\n",
        "        for j in range(1,m):\n",
        "            U[i+1,j] = (2*e*U[i,j]/(dt ** 2) -e*U[i-1,j]/(dt ** 2) + U[i,j] / dt + U[i,j] * (U[i,j+1] - 2 * U[i,j] + U[i,j-1])/(dx ** 2) + ((U[i,j+1] - U[i,j])/(dx)) * ((U[i,j+1] - U[i,j-1])/(2*dx)) + U[i,j] * (1-U[i,j]))*(2 * dt * dt)/(e+dt) #step for finite differences method\n",
        "        #boundary conditions\n",
        "        U[i+1,0] = U[i+1,1]\n",
        "        U[i+1,m] = U[i+1,m-1]\n",
        "    U[n,0] = U[n,1]\n",
        "    U[n,m] = U[n,m-1]\n",
        "\n",
        "    return U"
      ],
      "metadata": {
        "id": "ywCToXNA6mp3"
      },
      "execution_count": 399,
      "outputs": []
    },
    {
      "cell_type": "code",
      "source": [
        "def solve_cpde_m(f, U, dt, dx, T, e): #conjugate pde solver for p --- time-inverted conjugate pde with eu_tt\n",
        "    if (e == 0):\n",
        "        return solve_cpde(f, U, dt, dx, T)\n",
        "    x = np.arange(0, 1, dx)\n",
        "    t = np.arange(0, T, dt)\n",
        "    n = len(t)\n",
        "    m = len(x)\n",
        "    P = np.zeros((n+1,m+1))\n",
        "    P[1,:] = 2 * (f - U[n, :]) * dt / e\n",
        "    for i in range(1,n):\n",
        "        for j in range(1,m):\n",
        "            P[i+1,j] = (2*e*P[i,j]/(dt ** 2) -e*P[i-1,j]/(dt ** 2) + P[i,j]/dt  + U[n-i,j] * (P[i,j+1] - 2 * P[i,j] + P[i,j-1])/(dx ** 2) + (1 - 2 * U[n-i,j])* P[i,j])*(2 * dt * dt)/(e+dt)\n",
        "        P[i+1,0] = P[i+1,1]\n",
        "        P[i+1,m] = P[i+1,m-1]\n",
        "    P[n,0] = P[n,1]\n",
        "    P[n,m] = P[n,m-1]\n",
        "    return P  \n"
      ],
      "metadata": {
        "id": "zGXFTkAG6mud"
      },
      "execution_count": 400,
      "outputs": []
    },
    {
      "cell_type": "code",
      "source": [
        "T=0.01"
      ],
      "metadata": {
        "id": "V0Kk6_d--o8o"
      },
      "execution_count": 442,
      "outputs": []
    },
    {
      "cell_type": "code",
      "source": [
        "#gradient method for eps = 0\n",
        "#for given q_ex\n",
        "def exact_init(x):\n",
        "    return (np.sin(np.pi * x)) ** 2 #set yourself\n",
        "\n",
        "x = np.arange(0, 1, dx)\n",
        "t = np.arange(0, T, dt)\n",
        "n = len(t)\n",
        "m = len(x)\n",
        "U = np.zeros((n+1,m+1))\n",
        "e = 0\n",
        "P = np.zeros((n+1,m+1))\n",
        "h = 0.1#set yourself\n",
        "\n",
        "q = np.zeros(m+1)\n",
        "n_iter = 1000#set yourself\n",
        "for i in range(m+1):\n",
        "    q_ex[i] = exact_init(dx*i)\n",
        "\n",
        "U = solve_pde_m(q_ex, dx, dt, T, e) #calculating U(t,x|q_ex)\n",
        "f = U[n,:]\n",
        "\n",
        "r = np.zeros(n_iter)\n",
        "grad = np.zeros(m) \n",
        "x = np.zeros(n_iter)\n",
        "for j in range(n_iter):\n",
        "    time_before = perf_counter_ns()\n",
        "    P = np.zeros((n+1,m+1))\n",
        "    U = solve_pde_m(q, dx, dt, T, e) #calculating U(t,x|q)\n",
        "    P = solve_cpde_m(f, U, dt, dx, T, e)\n",
        "    grad =  - P[n, :] - e * (P[n,:] - P[n-2,:])/(2*dt) #current grad\n",
        "    for k in range(m):\n",
        "        q[k] = q[k] - h * grad[k]\n",
        "    r[j] = np.log(error(f, U, dx))\n",
        "    x[j] = j\n",
        "time_taken = (perf_counter_ns() - time_before) * 1e-6\n",
        "\n",
        "\n",
        "fig, ax = plt.subplots()\n",
        "ax.plot(x, r)\n",
        "ax.set_xlabel('number of iterations=1000, h=1')\n",
        "ax.set_ylabel('Log target functional')\n",
        "plt.show()\n",
        "print('Time elapsed: ', time_taken, ' seconds')"
      ],
      "metadata": {
        "colab": {
          "base_uri": "https://localhost:8080/",
          "height": 299
        },
        "id": "B8DExxpj7Kt4",
        "outputId": "b7fec173-b4f2-4adb-b9de-266916347311"
      },
      "execution_count": 443,
      "outputs": [
        {
          "output_type": "display_data",
          "data": {
            "text/plain": [
              "<Figure size 432x288 with 1 Axes>"
            ],
            "image/png": "[encoded data removed]"
          },
          "metadata": {
            "needs_background": "light"
          }
        },
        {
          "output_type": "stream",
          "name": "stdout",
          "text": [
            "Time elapsed:  4.396428  seconds\n"
          ]
        }
      ]
    },
    {
      "cell_type": "code",
      "source": [
        "plt.plot(q-q_ex)"
      ],
      "metadata": {
        "colab": {
          "base_uri": "https://localhost:8080/",
          "height": 283
        },
        "id": "uYwnfadc_M1X",
        "outputId": "3d3a3f19-8e12-4628-f09f-abae2dbe5611"
      },
      "execution_count": 444,
      "outputs": [
        {
          "output_type": "execute_result",
          "data": {
            "text/plain": [
              "[<matplotlib.lines.Line2D at 0x7fa01822d8b0>]"
            ]
          },
          "metadata": {},
          "execution_count": 444
        },
        {
          "output_type": "display_data",
          "data": {
            "text/plain": [
              "<Figure size 432x288 with 1 Axes>"
            ],
            "image/png": "[encoded data removed]"
          },
          "metadata": {
            "needs_background": "light"
          }
        }
      ]
    },
    {
      "cell_type": "code",
      "source": [
        "#gradient method for eps = 0\n",
        "#for unknown q_ex given f(x)\n",
        "x = np.arange(0, 1, dx)\n",
        "t = np.arange(0, T, dt)\n",
        "n = len(t)\n",
        "m = len(x)\n",
        "U = np.zeros((n+1,m+1))\n",
        "e = 0\n",
        "P = np.zeros((n+1,m+1))\n",
        "h = 0.1#set yourself\n",
        "\n",
        "q = np.zeros(m+1)\n",
        "n_iter = 1000 #set yourself\n",
        "for i in range(m+1):\n",
        "    f[i] = func(dx*i)\n",
        "r = np.zeros(n_iter)\n",
        "grad = np.zeros(m) \n",
        "x = np.zeros(n_iter)\n",
        "for j in range(n_iter):\n",
        "    time_before = perf_counter_ns()\n",
        "    P = np.zeros((n+1,m+1))\n",
        "    U = solve_pde_m(q, dx, dt, T, e) #calculating U(t,x|q)\n",
        "    P = solve_cpde_m(f, U, dt, dx, T, e)\n",
        "    grad =  - P[n, :] - e * (P[n,:] - P[n-2,:])/(2*dt) #current grad\n",
        "    for k in range(m):\n",
        "        q[k] = q[k] - h * grad[k]\n",
        "    r[j] = np.log(error(f, U, dx))\n",
        "    x[j] = j\n",
        "time_taken = (perf_counter_ns() - time_before) * 1e-6\n",
        "\n",
        "\n",
        "fig, ax = plt.subplots()\n",
        "ax.plot(x, r)\n",
        "ax.set_xlabel('number of iterations=1000, h=1')\n",
        "ax.set_ylabel('Log target functional')\n",
        "plt.show()\n",
        "print('Time elapsed: ', time_taken, ' seconds')"
      ],
      "metadata": {
        "colab": {
          "base_uri": "https://localhost:8080/",
          "height": 297
        },
        "id": "tddqIWW18cMA",
        "outputId": "48661b22-3d46-4490-846b-a0f75ade3526"
      },
      "execution_count": 445,
      "outputs": [
        {
          "output_type": "display_data",
          "data": {
            "text/plain": [
              "<Figure size 432x288 with 1 Axes>"
            ],
            "image/png": "[encoded data removed]"
          },
          "metadata": {
            "needs_background": "light"
          }
        },
        {
          "output_type": "stream",
          "name": "stdout",
          "text": [
            "Time elapsed:  9.322224  seconds\n"
          ]
        }
      ]
    },
    {
      "cell_type": "code",
      "source": [],
      "metadata": {
        "id": "AMm400NM--8T"
      },
      "execution_count": 455,
      "outputs": []
    }
  ]
}